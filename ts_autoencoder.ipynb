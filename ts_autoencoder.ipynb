{
  "nbformat": 4,
  "nbformat_minor": 0,
  "metadata": {
    "colab": {
      "name": "ts_autoencoder.ipynb",
      "provenance": [],
      "collapsed_sections": [],
      "authorship_tag": "ABX9TyNq0x5YCAPnG1pNzCuyvqB9",
      "include_colab_link": true
    },
    "kernelspec": {
      "name": "python3",
      "display_name": "Python 3"
    },
    "accelerator": "GPU"
  },
  "cells": [
    {
      "cell_type": "markdown",
      "metadata": {
        "id": "view-in-github",
        "colab_type": "text"
      },
      "source": [
        "<a href=\"https://colab.research.google.com/github/hisunnytang/PolHole-code/blob/master/ts_autoencoder.ipynb\" target=\"_parent\"><img src=\"https://colab.research.google.com/assets/colab-badge.svg\" alt=\"Open In Colab\"/></a>"
      ]
    },
    {
      "cell_type": "code",
      "metadata": {
        "id": "3gDtop0j5jMv",
        "colab_type": "code",
        "outputId": "4a59a0ee-bf79-48c2-c5df-40634451051c",
        "colab": {
          "base_uri": "https://localhost:8080/",
          "height": 51
        }
      },
      "source": [
        "%tensorflow_version 2.x\n",
        "import tensorflow as tf\n",
        "device_name = tf.test.gpu_device_name()\n",
        "if device_name != '/device:GPU:0':\n",
        "  raise SystemError('GPU device not found')\n",
        "print('Found GPU at: {}'.format(device_name))"
      ],
      "execution_count": 0,
      "outputs": [
        {
          "output_type": "stream",
          "text": [
            "TensorFlow 2.x selected.\n",
            "Found GPU at: /device:GPU:0\n"
          ],
          "name": "stdout"
        }
      ]
    },
    {
      "cell_type": "code",
      "metadata": {
        "id": "eYTPi9dA8sht",
        "colab_type": "code",
        "colab": {}
      },
      "source": [
        "import matplotlib.pyplot as plt\n"
      ],
      "execution_count": 0,
      "outputs": []
    },
    {
      "cell_type": "code",
      "metadata": {
        "id": "tDTcc6dAYUte",
        "colab_type": "code",
        "colab": {}
      },
      "source": [
        ""
      ],
      "execution_count": 0,
      "outputs": []
    },
    {
      "cell_type": "markdown",
      "metadata": {
        "id": "d8nE14dybn19",
        "colab_type": "text"
      },
      "source": [
        "# Irregular Time Series AutoEncoder!\n",
        "\n",
        "https://github.com/bnaul/IrregularTimeSeriesAutoencoderPaper/blob/master/autoencoder.py\n",
        "\n",
        "\n"
      ]
    },
    {
      "cell_type": "code",
      "metadata": {
        "id": "XgEQKlFPcP_6",
        "colab_type": "code",
        "colab": {}
      },
      "source": [
        "import numpy as np\n",
        "np.random.seed(0)\n",
        "from tensorflow.keras.layers import (Input, Dense, TimeDistributed, LSTM, GRU, Dropout,\n",
        "                          Flatten, RepeatVector, Bidirectional, SimpleRNN, Concatenate)\n",
        "# merge, recurrent does not exist in tf2.0\n",
        "# merge is replaced with concatenate\n",
        "from tensorflow.keras.models import Model\n"
      ],
      "execution_count": 0,
      "outputs": []
    },
    {
      "cell_type": "code",
      "metadata": {
        "id": "gIdeC2M-bvDc",
        "colab_type": "code",
        "colab": {}
      },
      "source": [
        "def encoder(model_input, layer,size , num_layers, drop_frac = 0.0 , \n",
        "            output_size=None, bidirectional=False, **parsed_args):\n",
        "    \"\"\"Encoder module of autoencoder architecture.\n",
        "    Can be used either as the encoding component of an autoencoder or as a standalone\n",
        "    encoder, which takes (possibly irregularly-sampled) time series as inputs and produces\n",
        "    a fixed-length vector as output.\n",
        "    model_input: `keras.layers.Input`\n",
        "        Input layer containing (y) or (dt, y) values\n",
        "    layer: `keras.layers.Recurrent`\n",
        "        Desired `keras` recurrent layer class\n",
        "    size: int\n",
        "        Number of units within each hidden layer\n",
        "    num_layers: int\n",
        "        Number of hidden layers\n",
        "    drop_frac: float\n",
        "        Dropout rate\n",
        "    output_size: int, optional\n",
        "        Size of encoding layer; defaults to `size`\n",
        "    bidirectional: bool, optional\n",
        "        Whether the bidirectional version of `layer` should be used; defaults to `False`\n",
        "    \"\"\"\n",
        "\n",
        "    if output_size is None:\n",
        "        output_size = size\n",
        "    encode = model_input\n",
        "    for i in range(num_layers):\n",
        "        wrapper = Bidirectional if bidirectional else lambda x: x\n",
        "        encode = wrapper(layer(size, name='encode_{}'.format(i),\n",
        "                               return_sequences=(i < num_layers - 1)))(encode)\n",
        "        if drop_frac > 0.0:\n",
        "            encode = Dropout(drop_frac, name='drop_encode_{}'.format(i))(encode)\n",
        "    encode = Dense(output_size, activation='linear', name='encoding')(encode)\n",
        "    return encode"
      ],
      "execution_count": 0,
      "outputs": []
    },
    {
      "cell_type": "code",
      "metadata": {
        "id": "38DJbO3RcOiw",
        "colab_type": "code",
        "colab": {}
      },
      "source": [
        "def decoder(encode, layer, n_step, size, num_layers, drop_frac=0.0, aux_input=None,\n",
        "            bidirectional=False, **parsed_args):\n",
        "    \"\"\"Decoder module of autoencoder architecture.\n",
        "    Can be used either as the decoding component of an autoencoder or as a standalone\n",
        "    decoder, which takes a fixed-length input vector and generates a length-`n_step`\n",
        "    time series as output.\n",
        "    layer: `keras.layers.Recurrent`\n",
        "        Desired `keras` recurrent layer class\n",
        "    n_step: int\n",
        "        Length of output time series\n",
        "    size: int\n",
        "        Number of units within each hidden layer\n",
        "    num_layers: int\n",
        "        Number of hidden layers\n",
        "    drop_frac: float\n",
        "        Dropout rate\n",
        "    aux_input: `keras.layers.Input`, optional\n",
        "        Input layer containing `dt` values; if `None` then the sequence is assumed to be\n",
        "        evenly-sampled\n",
        "    bidirectional: bool, optional\n",
        "        Whether the bidirectional version of `layer` should be used; defaults to `False`\n",
        "    \"\"\"\n",
        "    decode = RepeatVector(n_step, name='repeat')(encode)\n",
        "    if aux_input is not None:\n",
        "        decode = Concatenate(axis=-1)([aux_input, decode])\n",
        "\n",
        "    for i in range(num_layers):\n",
        "        if drop_frac > 0.0 and i > 0:  # skip these for first layer for symmetry\n",
        "            decode = Dropout(drop_frac, name='drop_decode_{}'.format(i))(decode)\n",
        "        wrapper = Bidirectional if bidirectional else lambda x: x\n",
        "        decode = wrapper(layer(size, name='decode_{}'.format(i),\n",
        "                               return_sequences=True))(decode)\n",
        "\n",
        "    decode = TimeDistributed(Dense(1, activation='linear'), name='time_dist')(decode)\n",
        "    return decode"
      ],
      "execution_count": 0,
      "outputs": []
    },
    {
      "cell_type": "code",
      "metadata": {
        "id": "FS2veViyhvu3",
        "colab_type": "code",
        "colab": {}
      },
      "source": [
        "from absl import flags\n",
        "\n",
        "for name in list(flags.FLAGS):\n",
        "  delattr(flags.FLAGS, name)\n",
        "\n",
        "# enc_type = flags[\"enc_type\"].value\n",
        "# enc_emb_size   = flags[\"enc_emb_size\"].value\n",
        "# enc_outsize = flags[\"enc_out_size\"].value\n",
        "# enc_layers  = flags[\"enc_num_layers\"].values\n",
        "# dropout     = flags[\"dropout_frac\"].values\n",
        "\n",
        "\n",
        "flags.DEFINE_string(\"enc_type\", \"GRU\", \"Encoder RNN-type\")\n",
        "flags.DEFINE_integer(\"enc_emb_size\", 32, \"Hidden units of the encoder RNN cells\")\n",
        "flags.DEFINE_integer(\"enc_out_size\", 32, \"encoder output size\")\n",
        "flags.DEFINE_integer(\"enc_num_layers\", 4, \"Number of stacked layers of RNNs\")\n",
        "flags.DEFINE_float(\"dropout_frac\", 0.1, \"Dropout Fraction\")\n",
        "\n",
        "flags.DEFINE_integer(\"dec_num_layers\", 4, \n",
        "                     \"Number of stacked layers of RNNs in the decoder\")\n",
        "flags.DEFINE_string(\"dec_type\", \"GRU\", \"Decoder RNN-type\")\n",
        "flags.DEFINE_integer(\"dec_emb_size\", 32, \n",
        "                     \"Hidden units of the decoder RNN cells\" )\n",
        "\n",
        "flags.DEFINE_integer(\"NTIME\", 100, \"maximum data points on the time axes\")\n",
        "flags.DEFINE_integer(\"NFEAT\", 2, \"number of feature of the time series (including the time axis)\")\n",
        "\n",
        "FLAGS = flags.FLAGS"
      ],
      "execution_count": 0,
      "outputs": []
    },
    {
      "cell_type": "code",
      "metadata": {
        "id": "46_vb3bfiub7",
        "colab_type": "code",
        "colab": {}
      },
      "source": [
        "# input layers\n",
        "# X[NDATA, Ntime, Nfeat]\n",
        "\n",
        "NTIME = FLAGS[\"NTIME\"].value\n",
        "NFEAT = FLAGS[\"NFEAT\"].value\n",
        "\n",
        "main_input = Input(shape=(NTIME, NFEAT), name='main_input')\n",
        "aux_input = Input(shape=(NTIME, NFEAT - 1), name='aux_input')\n"
      ],
      "execution_count": 0,
      "outputs": []
    },
    {
      "cell_type": "code",
      "metadata": {
        "id": "XSqpNeqbdBdn",
        "colab_type": "code",
        "colab": {}
      },
      "source": [
        "enc_type = FLAGS[\"enc_type\"].value\n",
        "enc_emb_size   = FLAGS[\"enc_emb_size\"].value\n",
        "enc_outsize = FLAGS[\"enc_out_size\"].value\n",
        "enc_layers  = FLAGS[\"enc_num_layers\"].value\n",
        "dropout     = FLAGS[\"dropout_frac\"].value\n",
        "\n",
        "model_type_dict = {'GRU': GRU, 'lstm': LSTM, 'vanilla': SimpleRNN}\n",
        "enc_type = model_type_dict[enc_type]\n",
        "\n",
        "encode = encoder(main_input, \n",
        "                 layer = enc_type,\n",
        "                 size = enc_emb_size,\n",
        "                 output_size= enc_outsize, \n",
        "                 num_layers = enc_layers, \n",
        "                 drop_frac = dropout)"
      ],
      "execution_count": 0,
      "outputs": []
    },
    {
      "cell_type": "code",
      "metadata": {
        "id": "lcLHGAEndf8I",
        "colab_type": "code",
        "colab": {}
      },
      "source": [
        "dec_layers = FLAGS[\"dec_num_layers\"].value\n",
        "dec_type = FLAGS[\"dec_type\"].value\n",
        "\n",
        "\n",
        "dec_type = model_type_dict[dec_type]\n",
        "dec_emb_size = FLAGS[\"dec_emb_size\"].value\n",
        "\n",
        "decode = decoder(encode, \n",
        "                 layer= dec_type,\n",
        "                 n_step=NTIME, \n",
        "                 size = dec_emb_size,\n",
        "                 num_layers=dec_layers,\n",
        "                 drop_frac = dropout,\n",
        "                 aux_input=aux_input)"
      ],
      "execution_count": 0,
      "outputs": []
    },
    {
      "cell_type": "code",
      "metadata": {
        "id": "6A55cNJKsTE9",
        "colab_type": "code",
        "colab": {}
      },
      "source": [
        "model_input = [main_input, aux_input]\n",
        "model = Model(model_input, decode)"
      ],
      "execution_count": 0,
      "outputs": []
    },
    {
      "cell_type": "code",
      "metadata": {
        "id": "VnQj0RBgwBR2",
        "colab_type": "code",
        "outputId": "bcf9e1aa-1eeb-4801-c4e4-4fd6ac87c84d",
        "colab": {
          "base_uri": "https://localhost:8080/",
          "height": 884
        }
      },
      "source": [
        "model.summary()"
      ],
      "execution_count": 0,
      "outputs": [
        {
          "output_type": "stream",
          "text": [
            "Model: \"model\"\n",
            "__________________________________________________________________________________________________\n",
            "Layer (type)                    Output Shape         Param #     Connected to                     \n",
            "==================================================================================================\n",
            "main_input (InputLayer)         [(None, 100, 2)]     0                                            \n",
            "__________________________________________________________________________________________________\n",
            "encode_0 (GRU)                  (None, 100, 32)      3456        main_input[0][0]                 \n",
            "__________________________________________________________________________________________________\n",
            "drop_encode_0 (Dropout)         (None, 100, 32)      0           encode_0[0][0]                   \n",
            "__________________________________________________________________________________________________\n",
            "encode_1 (GRU)                  (None, 100, 32)      6336        drop_encode_0[0][0]              \n",
            "__________________________________________________________________________________________________\n",
            "drop_encode_1 (Dropout)         (None, 100, 32)      0           encode_1[0][0]                   \n",
            "__________________________________________________________________________________________________\n",
            "encode_2 (GRU)                  (None, 100, 32)      6336        drop_encode_1[0][0]              \n",
            "__________________________________________________________________________________________________\n",
            "drop_encode_2 (Dropout)         (None, 100, 32)      0           encode_2[0][0]                   \n",
            "__________________________________________________________________________________________________\n",
            "encode_3 (GRU)                  (None, 32)           6336        drop_encode_2[0][0]              \n",
            "__________________________________________________________________________________________________\n",
            "drop_encode_3 (Dropout)         (None, 32)           0           encode_3[0][0]                   \n",
            "__________________________________________________________________________________________________\n",
            "encoding (Dense)                (None, 32)           1056        drop_encode_3[0][0]              \n",
            "__________________________________________________________________________________________________\n",
            "aux_input (InputLayer)          [(None, 100, 1)]     0                                            \n",
            "__________________________________________________________________________________________________\n",
            "repeat (RepeatVector)           (None, 100, 32)      0           encoding[0][0]                   \n",
            "__________________________________________________________________________________________________\n",
            "concatenate (Concatenate)       (None, 100, 33)      0           aux_input[0][0]                  \n",
            "                                                                 repeat[0][0]                     \n",
            "__________________________________________________________________________________________________\n",
            "decode_0 (GRU)                  (None, 100, 32)      6432        concatenate[0][0]                \n",
            "__________________________________________________________________________________________________\n",
            "drop_decode_1 (Dropout)         (None, 100, 32)      0           decode_0[0][0]                   \n",
            "__________________________________________________________________________________________________\n",
            "decode_1 (GRU)                  (None, 100, 32)      6336        drop_decode_1[0][0]              \n",
            "__________________________________________________________________________________________________\n",
            "drop_decode_2 (Dropout)         (None, 100, 32)      0           decode_1[0][0]                   \n",
            "__________________________________________________________________________________________________\n",
            "decode_2 (GRU)                  (None, 100, 32)      6336        drop_decode_2[0][0]              \n",
            "__________________________________________________________________________________________________\n",
            "drop_decode_3 (Dropout)         (None, 100, 32)      0           decode_2[0][0]                   \n",
            "__________________________________________________________________________________________________\n",
            "decode_3 (GRU)                  (None, 100, 32)      6336        drop_decode_3[0][0]              \n",
            "__________________________________________________________________________________________________\n",
            "time_dist (TimeDistributed)     (None, 100, 1)       33          decode_3[0][0]                   \n",
            "==================================================================================================\n",
            "Total params: 48,993\n",
            "Trainable params: 48,993\n",
            "Non-trainable params: 0\n",
            "__________________________________________________________________________________________________\n"
          ],
          "name": "stdout"
        }
      ]
    },
    {
      "cell_type": "markdown",
      "metadata": {
        "id": "X2YnTXKkw7LA",
        "colab_type": "text"
      },
      "source": [
        "# Example Data!"
      ]
    },
    {
      "cell_type": "code",
      "metadata": {
        "id": "vay1MCpawJqb",
        "colab_type": "code",
        "colab": {}
      },
      "source": [
        "# generate datasets\n",
        "import numpy as np\n",
        "\n",
        "# let's just start with a simple sine curve\n",
        "# with lags distributed according to pareto distribution\n",
        "\n",
        "import numpy as np\n",
        "from tensorflow.keras.preprocessing.sequence import pad_sequences\n",
        "\n",
        "\n",
        "def phase_to_sin_cos(Y):\n",
        "    \"\"\"Reparametrize sinusoid parameters:\n",
        "        w, A, phi, b --> p, A_cos, A_sin, b\n",
        "    Estimating these parameters seems to be easier in practice.\n",
        "    \"\"\"\n",
        "    w, A, phi, b = Y.T\n",
        "\n",
        "    A_cos = A * np.sin(phi)\n",
        "    A_sin = A * np.cos(phi)\n",
        "    p = w ** -1\n",
        "\n",
        "    return np.c_[p, A_cos, A_sin, b]\n",
        "\n",
        "\n",
        "def _random_times(N, even=True, t_max=4 * np.pi, n_min=None, n_max=None, t_shape=2, t_scale=0.05):\n",
        "    if n_min is None and n_max is None:\n",
        "        raise ValueError(\"Either n_min or n_max is required.\")\n",
        "    elif n_min is None:\n",
        "        n_min = n_max\n",
        "    elif n_max is None:\n",
        "        n_max = n_min\n",
        "\n",
        "    if even:\n",
        "        return np.tile(np.linspace(0., t_max, n_max), (N, 1))\n",
        "    else:\n",
        "        lags = [t_scale * np.random.pareto(t_shape, size=np.random.randint(n_min, n_max + 1))\n",
        "                for i in range(N)]\n",
        "        return [np.r_[0, np.cumsum(lags_i)] for lags_i in lags]\n",
        "\n",
        "\n",
        "def _periodic_params(N, A_min, A_max, w_min, w_max):\n",
        "    w = 1. / np.random.uniform(1. / w_max, 1. / w_min, size=N)\n",
        "    A = np.random.uniform(A_min, A_max, size=N)\n",
        "    phi = 2 * np.pi * np.random.random(size=N)\n",
        "    b = np.random.normal(scale=1, size=N)\n",
        "\n",
        "    return w, A, phi, b\n",
        "\n",
        "\n",
        "def _sinusoid(w, A, phi, b):\n",
        "    return lambda t: A * np.sin(2 * np.pi * w * t + phi) + b\n",
        "\n",
        "\n",
        "def periodic(N, n_min, n_max, t_max=4 * np.pi, even=True, A_min=0.5, A_max=2.0,\n",
        "             noise_sigma=0., w_min=0.1, w_max=1., t_shape=2, t_scale=0.05,\n",
        "             kind='sinusoid'):\n",
        "    \"\"\"Returns periodic data (values, (freq, amplitude, phase, offset))\"\"\"\n",
        "    t = _random_times(N, even, t_max, n_min, n_max, t_shape, t_scale)\n",
        "    w, A, phi, b = _periodic_params(N, A_min, A_max, w_min, w_max)\n",
        "\n",
        "    X_list = [np.c_[t[i], _sinusoid(w[i], A[i], phi[i], b[i])(t[i])] for i in range(N)]\n",
        "    X_raw = pad_sequences(X_list, maxlen=n_max, value=np.nan, dtype='float', padding='post')\n",
        "    X = X_raw.copy()\n",
        "    X[:, :, 1] = X_raw[:, :, 1] + np.random.normal(scale=noise_sigma + 1e-9, size=(N, n_max))\n",
        "    Y = np.c_[w, A, phi, b]\n",
        "    \n",
        "    return X, Y, X_raw"
      ],
      "execution_count": 0,
      "outputs": []
    },
    {
      "cell_type": "code",
      "metadata": {
        "id": "J4mQng1kw-FQ",
        "colab_type": "code",
        "colab": {}
      },
      "source": [
        "NDATA = 10000\n",
        "\n",
        "n_min = 64\n",
        "n_max = 96\n",
        "\n",
        "X,Y, X_raw = periodic(N = NDATA, \n",
        "                      n_min = 10, \n",
        "                      n_max = 100, \n",
        "                      t_max=4 * np.pi, \n",
        "                      even=False, \n",
        "                      A_min=0.5, A_max=2.0,\n",
        "                      noise_sigma=0.3, \n",
        "                      w_min=0.1, w_max=1.0, t_shape=2, t_scale=0.5,\n",
        "                      kind='sinusoid')\n"
      ],
      "execution_count": 0,
      "outputs": []
    },
    {
      "cell_type": "code",
      "metadata": {
        "id": "h-z774aQxCCV",
        "colab_type": "code",
        "outputId": "483867e1-06c9-4ed1-ac7c-10f3b6a6083d",
        "colab": {
          "base_uri": "https://localhost:8080/",
          "height": 268
        }
      },
      "source": [
        "import matplotlib.pyplot as plt\n",
        "\n",
        "f, axes = plt.subplots(2,2)\n",
        "for i, ax in enumerate(axes.flatten()):\n",
        "  n_nan = (~np.isnan(X[i, :, 1])).sum()\n",
        "  ax.scatter(X[i, :, 0], X[i, :, 1], label = str(n_nan))\n",
        "  ax.scatter(X_raw[i, :, 0], X_raw[i, :, 1])\n",
        "  ax.legend()"
      ],
      "execution_count": 0,
      "outputs": [
        {
          "output_type": "display_data",
          "data": {
            "image/png": "[encoded data removed]",
            "text/plain": [
              "<Figure size 432x288 with 4 Axes>"
            ]
          },
          "metadata": {
            "tags": []
          }
        }
      ]
    },
    {
      "cell_type": "code",
      "metadata": {
        "id": "D-eItzAKzMIV",
        "colab_type": "code",
        "colab": {}
      },
      "source": [
        "from tensorflow.keras.optimizers import Adam\n",
        "\n",
        "train_split = 0.8\n",
        "N_train = int(train_split *NDATA)\n",
        "N_test = NDATA - N_train\n",
        "\n",
        "train = np.arange(N_train)\n",
        "test = np.arange(N_test) + N_train\n",
        "\n",
        "finetune_rate = 1.0e-3\n",
        "optimizer = Adam(lr=lr if not finetune_rate else finetune_rate)\n",
        "\n",
        "sample_weight = (X[train, :, -1] != -1)\n",
        "\n",
        "loss = 'mse'\n",
        "metrics = []\n",
        "model.compile(optimizer=optimizer, loss=loss, metrics=metrics,\n",
        "              sample_weight_mode='temporal' if sample_weight is not None else None)"
      ],
      "execution_count": 0,
      "outputs": []
    },
    {
      "cell_type": "code",
      "metadata": {
        "id": "tdhnFWAE4JKo",
        "colab_type": "code",
        "colab": {}
      },
      "source": [
        "X_train = X[train]\n",
        "Xraw_train = X_raw[train]\n",
        "\n",
        "X_test = X_raw[test]\n",
        "Xraw_test = X_raw[test]\n",
        "\n",
        "def times_to_lags(T):\n",
        "    \"\"\"(N x n_step) matrix of times -> (N x n_step) matrix of lags.\n",
        "    First time is assumed to be zero.\n",
        "    \"\"\"\n",
        "    assert T.ndim == 2, \"T must be an (N x n_step) matrix\"\n",
        "    return np.c_[np.diff(T, axis=1), np.zeros(T.shape[0])]\n",
        "\n",
        "X_train[:, :, 0] = times_to_lags(Xraw_train[:, :, 0])\n",
        "X_train[np.isnan(X_train)] = -1.\n",
        "Xraw_train[np.isnan(Xraw_train)] = -1.\n",
        "\n",
        "\n",
        "X_test[:, :, 0] = times_to_lags(X_test[:, :, 0])\n",
        "X_test[np.isnan(X_test)] = -1."
      ],
      "execution_count": 0,
      "outputs": []
    },
    {
      "cell_type": "code",
      "metadata": {
        "id": "Oiw-SKSP9XwW",
        "colab_type": "code",
        "colab": {}
      },
      "source": [
        "input_data = [X_train, X_train[:,:,0:1]]\n",
        "test_data = [X_test, X_test[:,:,0:1]]"
      ],
      "execution_count": 0,
      "outputs": []
    },
    {
      "cell_type": "code",
      "metadata": {
        "id": "df0jbd9aaO5J",
        "colab_type": "code",
        "colab": {}
      },
      "source": [
        "from keras.callbacks import (Callback, TensorBoard, EarlyStopping,\n",
        "                             ModelCheckpoint, CSVLogger, ProgbarLogger)\n",
        "import csv\n",
        "from collections import Iterable, OrderedDict\n",
        "import datetime\n",
        "\n",
        "class TimedCSVLogger(CSVLogger):\n",
        "    def on_epoch_end(self, epoch, logs=None):\n",
        "        logs = logs or {}\n",
        "\n",
        "        def handle_value(k):\n",
        "            is_zero_dim_ndarray = isinstance(k, np.ndarray) and k.ndim == 0\n",
        "            if isinstance(k, Iterable) and not is_zero_dim_ndarray:\n",
        "                return '\"[%s]\"' % (', '.join(map(str, k)))\n",
        "            else:\n",
        "                return k\n",
        "\n",
        "        if not self.writer:\n",
        "            self.keys = sorted(logs.keys())\n",
        "\n",
        "            class CustomDialect(csv.excel):\n",
        "                delimiter = self.sep\n",
        "\n",
        "            self.writer = csv.DictWriter(self.csv_file,\n",
        "                                         fieldnames=['epoch', 'time'] + self.keys,\n",
        "                                         dialect=CustomDialect)\n",
        "            if self.append_header:\n",
        "                self.writer.writeheader()\n",
        "\n",
        "        row_dict = OrderedDict({'epoch': epoch, 'time': str(datetime.datetime.now())})\n",
        "        row_dict.update((key, handle_value(logs[key])) for key in self.keys)\n",
        "        self.writer.writerow(row_dict)\n",
        "        self.csv_file.flush()"
      ],
      "execution_count": 0,
      "outputs": []
    },
    {
      "cell_type": "code",
      "metadata": {
        "id": "xejb4zxMcRe1",
        "colab_type": "code",
        "outputId": "e3e4ec01-4cd0-4bc1-d7d9-ae0d8cfdd4ab",
        "colab": {
          "base_uri": "https://localhost:8080/",
          "height": 34
        }
      },
      "source": [
        "model"
      ],
      "execution_count": 0,
      "outputs": [
        {
          "output_type": "execute_result",
          "data": {
            "text/plain": [
              "<tensorflow.python.keras.engine.training.Model at 0x7f5f761cb9b0>"
            ]
          },
          "metadata": {
            "tags": []
          },
          "execution_count": 42
        }
      ]
    },
    {
      "cell_type": "code",
      "metadata": {
        "id": "r3XX_hmC7cyL",
        "colab_type": "code",
        "outputId": "9e7f86f2-0c77-4f00-b1b4-ca5a6201e81e",
        "colab": {
          "base_uri": "https://localhost:8080/",
          "height": 1000
        }
      },
      "source": [
        "csv_logger = tf.keras.callbacks.CSVLogger(\"training.csv\", separator=',')\n",
        "history = model.fit(input_data, Xraw_train[:,:,1:2], \n",
        "                    epochs = 100, verbose=2, validation_split= 0.2)"
      ],
      "execution_count": 0,
      "outputs": [
        {
          "output_type": "stream",
          "text": [
            "Train on 6400 samples, validate on 1600 samples\n",
            "Epoch 1/100\n",
            "6400/6400 - 8s - loss: 0.4648 - val_loss: 0.4548\n",
            "Epoch 2/100\n",
            "6400/6400 - 7s - loss: 0.4626 - val_loss: 0.4482\n",
            "Epoch 3/100\n",
            "6400/6400 - 7s - loss: 0.4595 - val_loss: 0.4455\n",
            "Epoch 4/100\n",
            "6400/6400 - 8s - loss: 0.4545 - val_loss: 0.4369\n",
            "Epoch 5/100\n",
            "6400/6400 - 7s - loss: 0.4435 - val_loss: 0.4333\n",
            "Epoch 6/100\n",
            "6400/6400 - 7s - loss: 0.4346 - val_loss: 0.4112\n",
            "Epoch 7/100\n",
            "6400/6400 - 7s - loss: 0.4286 - val_loss: 0.4083\n",
            "Epoch 8/100\n",
            "6400/6400 - 7s - loss: 0.4221 - val_loss: 0.3999\n",
            "Epoch 9/100\n",
            "6400/6400 - 7s - loss: 0.4128 - val_loss: 0.3991\n",
            "Epoch 10/100\n",
            "6400/6400 - 7s - loss: 0.4068 - val_loss: 0.3833\n",
            "Epoch 11/100\n",
            "6400/6400 - 7s - loss: 0.4016 - val_loss: 0.3827\n",
            "Epoch 12/100\n",
            "6400/6400 - 8s - loss: 0.3982 - val_loss: 0.3736\n",
            "Epoch 13/100\n",
            "6400/6400 - 7s - loss: 0.3924 - val_loss: 0.3670\n",
            "Epoch 14/100\n",
            "6400/6400 - 8s - loss: 0.3862 - val_loss: 0.3596\n",
            "Epoch 15/100\n",
            "6400/6400 - 8s - loss: 0.3810 - val_loss: 0.3624\n",
            "Epoch 16/100\n",
            "6400/6400 - 8s - loss: 0.3789 - val_loss: 0.3605\n",
            "Epoch 17/100\n",
            "6400/6400 - 8s - loss: 0.3765 - val_loss: 0.3542\n",
            "Epoch 18/100\n",
            "6400/6400 - 7s - loss: 0.3721 - val_loss: 0.3441\n",
            "Epoch 19/100\n",
            "6400/6400 - 7s - loss: 0.3687 - val_loss: 0.3430\n",
            "Epoch 20/100\n",
            "6400/6400 - 8s - loss: 0.3646 - val_loss: 0.3367\n",
            "Epoch 21/100\n",
            "6400/6400 - 8s - loss: 0.3591 - val_loss: 0.3269\n",
            "Epoch 22/100\n",
            "6400/6400 - 8s - loss: 0.3535 - val_loss: 0.3273\n",
            "Epoch 23/100\n",
            "6400/6400 - 7s - loss: 0.3499 - val_loss: 0.3285\n",
            "Epoch 24/100\n",
            "6400/6400 - 7s - loss: 0.3468 - val_loss: 0.3170\n",
            "Epoch 25/100\n",
            "6400/6400 - 7s - loss: 0.3466 - val_loss: 0.3237\n",
            "Epoch 26/100\n",
            "6400/6400 - 7s - loss: 0.3410 - val_loss: 0.3188\n",
            "Epoch 27/100\n",
            "6400/6400 - 7s - loss: 0.3389 - val_loss: 0.3026\n",
            "Epoch 28/100\n",
            "6400/6400 - 7s - loss: 0.3337 - val_loss: 0.3058\n",
            "Epoch 29/100\n",
            "6400/6400 - 7s - loss: 0.3333 - val_loss: 0.3368\n",
            "Epoch 30/100\n",
            "6400/6400 - 8s - loss: 0.3287 - val_loss: 0.3045\n",
            "Epoch 31/100\n",
            "6400/6400 - 8s - loss: 0.3256 - val_loss: 0.2920\n",
            "Epoch 32/100\n",
            "6400/6400 - 8s - loss: 0.3200 - val_loss: 0.3143\n",
            "Epoch 33/100\n",
            "6400/6400 - 8s - loss: 0.3212 - val_loss: 0.2950\n",
            "Epoch 34/100\n",
            "6400/6400 - 7s - loss: 0.3176 - val_loss: 0.2931\n",
            "Epoch 35/100\n",
            "6400/6400 - 7s - loss: 0.3160 - val_loss: 0.2878\n",
            "Epoch 36/100\n",
            "6400/6400 - 7s - loss: 0.3143 - val_loss: 0.2937\n",
            "Epoch 37/100\n",
            "6400/6400 - 7s - loss: 0.3097 - val_loss: 0.2785\n",
            "Epoch 38/100\n",
            "6400/6400 - 7s - loss: 0.3088 - val_loss: 0.2773\n",
            "Epoch 39/100\n",
            "6400/6400 - 7s - loss: 0.3048 - val_loss: 0.2840\n",
            "Epoch 40/100\n",
            "6400/6400 - 7s - loss: 0.3042 - val_loss: 0.2735\n",
            "Epoch 41/100\n",
            "6400/6400 - 8s - loss: 0.2982 - val_loss: 0.2645\n",
            "Epoch 42/100\n",
            "6400/6400 - 8s - loss: 0.2960 - val_loss: 0.2839\n",
            "Epoch 43/100\n",
            "6400/6400 - 8s - loss: 0.2981 - val_loss: 0.2609\n",
            "Epoch 44/100\n",
            "6400/6400 - 8s - loss: 0.2918 - val_loss: 0.2682\n",
            "Epoch 45/100\n",
            "6400/6400 - 8s - loss: 0.2907 - val_loss: 0.2739\n",
            "Epoch 46/100\n",
            "6400/6400 - 8s - loss: 0.2920 - val_loss: 0.2768\n",
            "Epoch 47/100\n",
            "6400/6400 - 8s - loss: 0.2866 - val_loss: 0.2584\n",
            "Epoch 48/100\n",
            "6400/6400 - 8s - loss: 0.2878 - val_loss: 0.2705\n",
            "Epoch 49/100\n",
            "6400/6400 - 8s - loss: 0.2849 - val_loss: 0.2535\n",
            "Epoch 50/100\n",
            "6400/6400 - 8s - loss: 0.2836 - val_loss: 0.2508\n",
            "Epoch 51/100\n",
            "6400/6400 - 8s - loss: 0.2804 - val_loss: 0.2437\n",
            "Epoch 52/100\n",
            "6400/6400 - 8s - loss: 0.2775 - val_loss: 0.2431\n",
            "Epoch 53/100\n",
            "6400/6400 - 8s - loss: 0.2748 - val_loss: 0.2481\n",
            "Epoch 54/100\n",
            "6400/6400 - 7s - loss: 0.2727 - val_loss: 0.2474\n",
            "Epoch 55/100\n",
            "6400/6400 - 7s - loss: 0.2695 - val_loss: 0.2469\n",
            "Epoch 56/100\n",
            "6400/6400 - 8s - loss: 0.2677 - val_loss: 0.2556\n",
            "Epoch 57/100\n",
            "6400/6400 - 8s - loss: 0.2656 - val_loss: 0.2362\n",
            "Epoch 58/100\n",
            "6400/6400 - 7s - loss: 0.2658 - val_loss: 0.2364\n",
            "Epoch 59/100\n",
            "6400/6400 - 7s - loss: 0.2606 - val_loss: 0.2347\n",
            "Epoch 60/100\n",
            "6400/6400 - 8s - loss: 0.2581 - val_loss: 0.2269\n",
            "Epoch 61/100\n",
            "6400/6400 - 8s - loss: 0.2651 - val_loss: 0.2251\n",
            "Epoch 62/100\n",
            "6400/6400 - 7s - loss: 0.2569 - val_loss: 0.2221\n",
            "Epoch 63/100\n",
            "6400/6400 - 7s - loss: 0.2547 - val_loss: 0.2330\n",
            "Epoch 64/100\n",
            "6400/6400 - 7s - loss: 0.2528 - val_loss: 0.2155\n",
            "Epoch 65/100\n",
            "6400/6400 - 8s - loss: 0.2502 - val_loss: 0.2405\n",
            "Epoch 66/100\n",
            "6400/6400 - 8s - loss: 0.2500 - val_loss: 0.2153\n",
            "Epoch 67/100\n",
            "6400/6400 - 8s - loss: 0.2487 - val_loss: 0.2151\n",
            "Epoch 68/100\n",
            "6400/6400 - 8s - loss: 0.2484 - val_loss: 0.2110\n",
            "Epoch 69/100\n",
            "6400/6400 - 8s - loss: 0.2455 - val_loss: 0.2113\n",
            "Epoch 70/100\n",
            "6400/6400 - 8s - loss: 0.2425 - val_loss: 0.2049\n",
            "Epoch 71/100\n",
            "6400/6400 - 8s - loss: 0.2450 - val_loss: 0.2226\n",
            "Epoch 72/100\n",
            "6400/6400 - 8s - loss: 0.2410 - val_loss: 0.2087\n",
            "Epoch 73/100\n",
            "6400/6400 - 8s - loss: 0.2403 - val_loss: 0.1983\n",
            "Epoch 74/100\n",
            "6400/6400 - 8s - loss: 0.2385 - val_loss: 0.1996\n",
            "Epoch 75/100\n",
            "6400/6400 - 7s - loss: 0.2333 - val_loss: 0.2033\n",
            "Epoch 76/100\n",
            "6400/6400 - 8s - loss: 0.2364 - val_loss: 0.2015\n",
            "Epoch 77/100\n",
            "6400/6400 - 8s - loss: 0.2345 - val_loss: 0.2126\n",
            "Epoch 78/100\n",
            "6400/6400 - 8s - loss: 0.2334 - val_loss: 0.2207\n",
            "Epoch 79/100\n",
            "6400/6400 - 8s - loss: 0.2318 - val_loss: 0.2041\n",
            "Epoch 80/100\n",
            "6400/6400 - 8s - loss: 0.2282 - val_loss: 0.1894\n",
            "Epoch 81/100\n",
            "6400/6400 - 8s - loss: 0.2290 - val_loss: 0.2156\n",
            "Epoch 82/100\n",
            "6400/6400 - 8s - loss: 0.2273 - val_loss: 0.2070\n",
            "Epoch 83/100\n",
            "6400/6400 - 8s - loss: 0.2284 - val_loss: 0.1816\n",
            "Epoch 84/100\n",
            "6400/6400 - 8s - loss: 0.2307 - val_loss: 0.1966\n",
            "Epoch 85/100\n",
            "6400/6400 - 7s - loss: 0.2269 - val_loss: 0.1806\n",
            "Epoch 86/100\n",
            "6400/6400 - 8s - loss: 0.2209 - val_loss: 0.1859\n",
            "Epoch 87/100\n",
            "6400/6400 - 8s - loss: 0.2190 - val_loss: 0.1794\n",
            "Epoch 88/100\n",
            "6400/6400 - 7s - loss: 0.2196 - val_loss: 0.1786\n",
            "Epoch 89/100\n",
            "6400/6400 - 7s - loss: 0.2202 - val_loss: 0.1906\n",
            "Epoch 90/100\n",
            "6400/6400 - 8s - loss: 0.2194 - val_loss: 0.1986\n",
            "Epoch 91/100\n",
            "6400/6400 - 8s - loss: 0.2201 - val_loss: 0.1747\n",
            "Epoch 92/100\n",
            "6400/6400 - 8s - loss: 0.2156 - val_loss: 0.1740\n",
            "Epoch 93/100\n",
            "6400/6400 - 8s - loss: 0.2140 - val_loss: 0.1849\n",
            "Epoch 94/100\n",
            "6400/6400 - 7s - loss: 0.2140 - val_loss: 0.1855\n",
            "Epoch 95/100\n",
            "6400/6400 - 7s - loss: 0.2115 - val_loss: 0.2015\n",
            "Epoch 96/100\n",
            "6400/6400 - 7s - loss: 0.2135 - val_loss: 0.1771\n",
            "Epoch 97/100\n",
            "6400/6400 - 7s - loss: 0.2116 - val_loss: 0.1720\n",
            "Epoch 98/100\n",
            "6400/6400 - 7s - loss: 0.2075 - val_loss: 0.1716\n",
            "Epoch 99/100\n",
            "6400/6400 - 7s - loss: 0.2054 - val_loss: 0.1648\n",
            "Epoch 100/100\n",
            "6400/6400 - 7s - loss: 0.2027 - val_loss: 0.1608\n"
          ],
          "name": "stdout"
        }
      ]
    },
    {
      "cell_type": "code",
      "metadata": {
        "id": "rOoXsiqx78rj",
        "colab_type": "code",
        "outputId": "7a96617e-60f5-4132-e137-63a804e50739",
        "colab": {
          "base_uri": "https://localhost:8080/",
          "height": 299
        }
      },
      "source": [
        "loss = history.history\n",
        "print(loss.keys())\n",
        "plt.plot(loss[\"loss\"])\n",
        "plt.plot(loss[\"val_loss\"])"
      ],
      "execution_count": 0,
      "outputs": [
        {
          "output_type": "stream",
          "text": [
            "dict_keys(['loss', 'val_loss'])\n"
          ],
          "name": "stdout"
        },
        {
          "output_type": "execute_result",
          "data": {
            "text/plain": [
              "[<matplotlib.lines.Line2D at 0x7f5eb6351ef0>]"
            ]
          },
          "metadata": {
            "tags": []
          },
          "execution_count": 58
        },
        {
          "output_type": "display_data",
          "data": {
            "image/png": "[encoded data removed]",
            "text/plain": [
              "<Figure size 432x288 with 1 Axes>"
            ]
          },
          "metadata": {
            "tags": []
          }
        }
      ]
    },
    {
      "cell_type": "code",
      "metadata": {
        "id": "eCVhsrWL9RNg",
        "colab_type": "code",
        "outputId": "a5fe1ab7-d50a-42de-e96c-bbe1d74df224",
        "colab": {
          "base_uri": "https://localhost:8080/",
          "height": 265
        }
      },
      "source": [
        "import matplotlib.pyplot as plt\n",
        "\n",
        "ytest = model.predict(test_data)\n",
        "\n",
        "f, axes = plt.subplots(3,3)\n",
        "for i, ax in enumerate(axes.flatten()):\n",
        "\n",
        "  i = np.random.randint(2000)\n",
        "  n_nan = (~np.isnan(X_test[i, :, 1])).sum()\n",
        "  ax.scatter(Xraw_test[i, :, 0], X_test[i, :, 1], label = str(n_nan))\n",
        "  ax.scatter(Xraw_test[i, :, 0], ytest[i, :, 0])\n",
        "  ax.legend()"
      ],
      "execution_count": 0,
      "outputs": [
        {
          "output_type": "display_data",
          "data": {
            "image/png": "[encoded data removed]",
            "text/plain": [
              "<Figure size 432x288 with 9 Axes>"
            ]
          },
          "metadata": {
            "tags": []
          }
        }
      ]
    },
    {
      "cell_type": "code",
      "metadata": {
        "id": "s4KZbn0G-dUM",
        "colab_type": "code",
        "outputId": "5235506e-499c-42ff-dad9-220730735a64",
        "colab": {
          "base_uri": "https://localhost:8080/",
          "height": 34
        }
      },
      "source": [
        "np.random.randint(1000)"
      ],
      "execution_count": 0,
      "outputs": [
        {
          "output_type": "execute_result",
          "data": {
            "text/plain": [
              "789"
            ]
          },
          "metadata": {
            "tags": []
          },
          "execution_count": 39
        }
      ]
    },
    {
      "cell_type": "code",
      "metadata": {
        "id": "kIzKI4w7FWGh",
        "colab_type": "code",
        "outputId": "708fc24c-6480-4444-9d73-79163e7cbd6d",
        "colab": {
          "base_uri": "https://localhost:8080/",
          "height": 34
        }
      },
      "source": [
        "y.shape"
      ],
      "execution_count": 0,
      "outputs": [
        {
          "output_type": "execute_result",
          "data": {
            "text/plain": [
              "(8000, 100, 1)"
            ]
          },
          "metadata": {
            "tags": []
          },
          "execution_count": 45
        }
      ]
    },
    {
      "cell_type": "code",
      "metadata": {
        "id": "pKFSRVxXFbTM",
        "colab_type": "code",
        "outputId": "0644f406-c533-40ed-944f-57e55485ab70",
        "colab": {
          "base_uri": "https://localhost:8080/",
          "height": 34
        }
      },
      "source": [
        "1350/870"
      ],
      "execution_count": 0,
      "outputs": [
        {
          "output_type": "execute_result",
          "data": {
            "text/plain": [
              "1.5517241379310345"
            ]
          },
          "metadata": {
            "tags": []
          },
          "execution_count": 60
        }
      ]
    },
    {
      "cell_type": "code",
      "metadata": {
        "id": "qBrySW_Cjh27",
        "colab_type": "code",
        "outputId": "8c40d603-9b7f-412d-8b1c-f08af800a17f",
        "colab": {
          "base_uri": "https://localhost:8080/",
          "height": 34
        }
      },
      "source": [
        "1.5/2.2"
      ],
      "execution_count": 0,
      "outputs": [
        {
          "output_type": "execute_result",
          "data": {
            "text/plain": [
              "0.6818181818181818"
            ]
          },
          "metadata": {
            "tags": []
          },
          "execution_count": 62
        }
      ]
    },
    {
      "cell_type": "code",
      "metadata": {
        "id": "iD-RcAmOma6Y",
        "colab_type": "code",
        "outputId": "5f634c28-77f9-41a6-df49-e49f98d5e710",
        "colab": {
          "base_uri": "https://localhost:8080/",
          "height": 265
        }
      },
      "source": [
        "for i in range(4):\n",
        "  plt.hist(ystand[:,i], alpha = 0.3)"
      ],
      "execution_count": 0,
      "outputs": [
        {
          "output_type": "display_data",
          "data": {
            "image/png": "[encoded data removed]",
            "text/plain": [
              "<Figure size 432x288 with 1 Axes>"
            ]
          },
          "metadata": {
            "tags": []
          }
        }
      ]
    },
    {
      "cell_type": "code",
      "metadata": {
        "id": "Ow1ZKVVmmqTQ",
        "colab_type": "code",
        "colab": {}
      },
      "source": [
        "\n",
        "from sklearn.preprocessing import StandardScaler\n",
        "\n",
        "ystand = StandardScaler().fit(Y).transform(Y)"
      ],
      "execution_count": 0,
      "outputs": []
    },
    {
      "cell_type": "code",
      "metadata": {
        "id": "J0k8n-MAjiwK",
        "colab_type": "code",
        "colab": {}
      },
      "source": [
        "# Now transfer learning!\n",
        "\n",
        "# create new model!\n",
        "\n",
        "\n",
        "encode = encoder(main_input, \n",
        "                 layer = enc_type,\n",
        "                 size = enc_emb_size,\n",
        "                 output_size= enc_outsize, \n",
        "                 num_layers = enc_layers, \n",
        "                 drop_frac = dropout)\n",
        "\n",
        "out = Dense(Y.shape[-1], activation='tanh')(encode)\n"
      ],
      "execution_count": 0,
      "outputs": []
    },
    {
      "cell_type": "code",
      "metadata": {
        "id": "ACS5yH3lmULo",
        "colab_type": "code",
        "colab": {}
      },
      "source": [
        "model = Model([model_input], out)\n"
      ],
      "execution_count": 0,
      "outputs": []
    },
    {
      "cell_type": "code",
      "metadata": {
        "id": "rKLXNXEknBg6",
        "colab_type": "code",
        "outputId": "2b2a1109-22b5-4a61-826d-4438075d6632",
        "colab": {
          "base_uri": "https://localhost:8080/",
          "height": 221
        }
      },
      "source": [
        "for l in model.layers:\n",
        "  print(l)"
      ],
      "execution_count": 0,
      "outputs": [
        {
          "output_type": "stream",
          "text": [
            "<tensorflow.python.keras.engine.input_layer.InputLayer object at 0x7f5f761cb278>\n",
            "<tensorflow.python.keras.layers.recurrent_v2.GRU object at 0x7f5eb6383f98>\n",
            "<tensorflow.python.keras.layers.core.Dropout object at 0x7f5eb6383fd0>\n",
            "<tensorflow.python.keras.layers.recurrent_v2.GRU object at 0x7f5eb5fc1048>\n",
            "<tensorflow.python.keras.layers.core.Dropout object at 0x7f5eb602c8d0>\n",
            "<tensorflow.python.keras.layers.recurrent_v2.GRU object at 0x7f5eb602c2b0>\n",
            "<tensorflow.python.keras.layers.core.Dropout object at 0x7f5eb5f3f438>\n",
            "<tensorflow.python.keras.layers.recurrent_v2.GRU object at 0x7f5eb5ee9080>\n",
            "<tensorflow.python.keras.layers.core.Dropout object at 0x7f5eb5fb49e8>\n",
            "<tensorflow.python.keras.layers.core.Dense object at 0x7f5eb5e042b0>\n",
            "<tensorflow.python.keras.engine.input_layer.InputLayer object at 0x7f5f761cb5c0>\n",
            "<tensorflow.python.keras.layers.core.Dense object at 0x7f5ecb883c50>\n"
          ],
          "name": "stdout"
        }
      ]
    },
    {
      "cell_type": "markdown",
      "metadata": {
        "id": "sk6Rjyabp1il",
        "colab_type": "text"
      },
      "source": [
        "# Ingesting Lightcurve data"
      ]
    },
    {
      "cell_type": "code",
      "metadata": {
        "id": "g5FQepIinEBT",
        "colab_type": "code",
        "colab": {
          "base_uri": "https://localhost:8080/",
          "height": 122
        },
        "outputId": "1f70199a-b5fd-44a0-d83a-08363f43c682"
      },
      "source": [
        "from google.colab import drive\n",
        "drive.mount('/content/gdrive')"
      ],
      "execution_count": 1,
      "outputs": [
        {
          "output_type": "stream",
          "text": [
            "Go to this URL in a browser: https://accounts.google.com/o/oauth2/auth?client_id=947318989803-6bn6qk8qdgf4n4g3pfee6491hc0brc4i.apps.googleusercontent.com&redirect_uri=urn%3aietf%3awg%3aoauth%3a2.0%3aoob&response_type=code&scope=email%20https%3a%2f%2fwww.googleapis.com%2fauth%2fdocs.test%20https%3a%2f%2fwww.googleapis.com%2fauth%2fdrive%20https%3a%2f%2fwww.googleapis.com%2fauth%2fdrive.photos.readonly%20https%3a%2f%2fwww.googleapis.com%2fauth%2fpeopleapi.readonly\n",
            "\n",
            "Enter your authorization code:\n",
            "··········\n",
            "Mounted at /content/gdrive\n"
          ],
          "name": "stdout"
        }
      ]
    },
    {
      "cell_type": "code",
      "metadata": {
        "id": "pYgpSoELoxt1",
        "colab_type": "code",
        "colab": {
          "base_uri": "https://localhost:8080/",
          "height": 68
        },
        "outputId": "bbf9793e-e935-4ecb-fc10-3f7930e25474"
      },
      "source": [
        "!ls gdrive/My\\ Drive/mock_*\n"
      ],
      "execution_count": 2,
      "outputs": [
        {
          "output_type": "stream",
          "text": [
            "'gdrive/My Drive/mock_agn.csv'\t\t'gdrive/My Drive/mock_lc_obs_cad2.csv'\n",
            "'gdrive/My Drive/mock_lc_full_1e4.csv'\t'gdrive/My Drive/mock_lc_obs_cad6.csv'\n",
            "'gdrive/My Drive/mock_lc_obs_cad1.csv'\n"
          ],
          "name": "stdout"
        }
      ]
    },
    {
      "cell_type": "code",
      "metadata": {
        "id": "4wX8zwWAo-SC",
        "colab_type": "code",
        "colab": {}
      },
      "source": [
        "import pandas as pd"
      ],
      "execution_count": 0,
      "outputs": []
    },
    {
      "cell_type": "code",
      "metadata": {
        "id": "P-LT-4WipixK",
        "colab_type": "code",
        "colab": {}
      },
      "source": [
        "lc_cad6 = pd.read_csv(\"gdrive/My Drive/mock_lc_obs_cad6.csv\", delimiter='\\t')\n",
        "agn_cat = pd.read_csv(\"gdrive/My Drive/mock_agn.csv\", delimiter='\\t')"
      ],
      "execution_count": 0,
      "outputs": []
    },
    {
      "cell_type": "code",
      "metadata": {
        "id": "eejNCTZapqYf",
        "colab_type": "code",
        "colab": {
          "base_uri": "https://localhost:8080/",
          "height": 309
        },
        "outputId": "23f341d1-b3a5-4f0a-afa9-1a624a6d1729"
      },
      "source": [
        "agn_cat.head()"
      ],
      "execution_count": 5,
      "outputs": [
        {
          "output_type": "execute_result",
          "data": {
            "text/html": [
              "<div>\n",
              "<style scoped>\n",
              "    .dataframe tbody tr th:only-of-type {\n",
              "        vertical-align: middle;\n",
              "    }\n",
              "\n",
              "    .dataframe tbody tr th {\n",
              "        vertical-align: top;\n",
              "    }\n",
              "\n",
              "    .dataframe thead th {\n",
              "        text-align: right;\n",
              "    }\n",
              "</style>\n",
              "<table border=\"1\" class=\"dataframe\">\n",
              "  <thead>\n",
              "    <tr style=\"text-align: right;\">\n",
              "      <th></th>\n",
              "      <th>obj_id</th>\n",
              "      <th>z</th>\n",
              "      <th>imag</th>\n",
              "      <th>logL5100</th>\n",
              "      <th>logL3000</th>\n",
              "      <th>logFWHM_hb</th>\n",
              "      <th>logMbh_hb</th>\n",
              "      <th>tau_drw</th>\n",
              "      <th>sigma_drw</th>\n",
              "      <th>lag_u</th>\n",
              "      <th>lag_g</th>\n",
              "      <th>lag_r</th>\n",
              "      <th>lag_i</th>\n",
              "      <th>lag_z</th>\n",
              "      <th>lag_y</th>\n",
              "      <th>f_u</th>\n",
              "      <th>f_g</th>\n",
              "      <th>f_r</th>\n",
              "      <th>f_i</th>\n",
              "      <th>f_z</th>\n",
              "      <th>f_y</th>\n",
              "    </tr>\n",
              "  </thead>\n",
              "  <tbody>\n",
              "    <tr>\n",
              "      <th>0</th>\n",
              "      <td>0</td>\n",
              "      <td>2.013639</td>\n",
              "      <td>18.032446</td>\n",
              "      <td>46.163641</td>\n",
              "      <td>46.278865</td>\n",
              "      <td>3.726036</td>\n",
              "      <td>9.443893</td>\n",
              "      <td>733.777731</td>\n",
              "      <td>0.004432</td>\n",
              "      <td>-5.385637</td>\n",
              "      <td>0.0</td>\n",
              "      <td>7.914683</td>\n",
              "      <td>15.017492</td>\n",
              "      <td>26.047311</td>\n",
              "      <td>35.988240</td>\n",
              "      <td>5.904308e-13</td>\n",
              "      <td>5.134720e-13</td>\n",
              "      <td>4.493655e-13</td>\n",
              "      <td>4.078408e-13</td>\n",
              "      <td>3.798050e-13</td>\n",
              "      <td>3.516311e-13</td>\n",
              "    </tr>\n",
              "    <tr>\n",
              "      <th>1</th>\n",
              "      <td>1</td>\n",
              "      <td>0.416838</td>\n",
              "      <td>20.874157</td>\n",
              "      <td>43.577630</td>\n",
              "      <td>43.692854</td>\n",
              "      <td>3.440847</td>\n",
              "      <td>7.580508</td>\n",
              "      <td>595.915205</td>\n",
              "      <td>0.012315</td>\n",
              "      <td>-0.325256</td>\n",
              "      <td>0.0</td>\n",
              "      <td>0.479418</td>\n",
              "      <td>1.058865</td>\n",
              "      <td>1.377587</td>\n",
              "      <td>1.977531</td>\n",
              "      <td>7.229969e-14</td>\n",
              "      <td>6.287590e-14</td>\n",
              "      <td>5.502589e-14</td>\n",
              "      <td>4.994109e-14</td>\n",
              "      <td>4.650804e-14</td>\n",
              "      <td>4.305808e-14</td>\n",
              "    </tr>\n",
              "    <tr>\n",
              "      <th>2</th>\n",
              "      <td>2</td>\n",
              "      <td>1.209258</td>\n",
              "      <td>21.296150</td>\n",
              "      <td>44.366276</td>\n",
              "      <td>44.481500</td>\n",
              "      <td>3.304164</td>\n",
              "      <td>7.701466</td>\n",
              "      <td>125.034528</td>\n",
              "      <td>0.019955</td>\n",
              "      <td>-0.581680</td>\n",
              "      <td>0.0</td>\n",
              "      <td>0.834407</td>\n",
              "      <td>1.619880</td>\n",
              "      <td>2.474230</td>\n",
              "      <td>3.344473</td>\n",
              "      <td>3.308526e-14</td>\n",
              "      <td>2.877281e-14</td>\n",
              "      <td>2.518055e-14</td>\n",
              "      <td>2.285368e-14</td>\n",
              "      <td>2.128267e-14</td>\n",
              "      <td>1.970393e-14</td>\n",
              "    </tr>\n",
              "    <tr>\n",
              "      <th>3</th>\n",
              "      <td>3</td>\n",
              "      <td>2.014129</td>\n",
              "      <td>20.906063</td>\n",
              "      <td>45.014473</td>\n",
              "      <td>45.129698</td>\n",
              "      <td>3.576584</td>\n",
              "      <td>8.570405</td>\n",
              "      <td>783.469152</td>\n",
              "      <td>0.012674</td>\n",
              "      <td>-0.799882</td>\n",
              "      <td>0.0</td>\n",
              "      <td>1.061254</td>\n",
              "      <td>1.734637</td>\n",
              "      <td>2.761009</td>\n",
              "      <td>4.356872</td>\n",
              "      <td>4.185457e-14</td>\n",
              "      <td>3.639910e-14</td>\n",
              "      <td>3.185470e-14</td>\n",
              "      <td>2.891109e-14</td>\n",
              "      <td>2.692368e-14</td>\n",
              "      <td>2.492649e-14</td>\n",
              "    </tr>\n",
              "    <tr>\n",
              "      <th>4</th>\n",
              "      <td>4</td>\n",
              "      <td>1.356444</td>\n",
              "      <td>20.497257</td>\n",
              "      <td>44.788156</td>\n",
              "      <td>44.903380</td>\n",
              "      <td>3.376679</td>\n",
              "      <td>8.057436</td>\n",
              "      <td>304.009780</td>\n",
              "      <td>0.019299</td>\n",
              "      <td>-0.340711</td>\n",
              "      <td>0.0</td>\n",
              "      <td>0.463602</td>\n",
              "      <td>0.900704</td>\n",
              "      <td>1.653804</td>\n",
              "      <td>2.598019</td>\n",
              "      <td>6.578222e-14</td>\n",
              "      <td>5.720794e-14</td>\n",
              "      <td>5.006558e-14</td>\n",
              "      <td>4.543915e-14</td>\n",
              "      <td>4.231557e-14</td>\n",
              "      <td>3.917660e-14</td>\n",
              "    </tr>\n",
              "  </tbody>\n",
              "</table>\n",
              "</div>"
            ],
            "text/plain": [
              "   obj_id         z       imag  ...           f_i           f_z           f_y\n",
              "0       0  2.013639  18.032446  ...  4.078408e-13  3.798050e-13  3.516311e-13\n",
              "1       1  0.416838  20.874157  ...  4.994109e-14  4.650804e-14  4.305808e-14\n",
              "2       2  1.209258  21.296150  ...  2.285368e-14  2.128267e-14  1.970393e-14\n",
              "3       3  2.014129  20.906063  ...  2.891109e-14  2.692368e-14  2.492649e-14\n",
              "4       4  1.356444  20.497257  ...  4.543915e-14  4.231557e-14  3.917660e-14\n",
              "\n",
              "[5 rows x 21 columns]"
            ]
          },
          "metadata": {
            "tags": []
          },
          "execution_count": 5
        }
      ]
    },
    {
      "cell_type": "code",
      "metadata": {
        "id": "WR8qthHGt5AN",
        "colab_type": "code",
        "colab": {
          "base_uri": "https://localhost:8080/",
          "height": 309
        },
        "outputId": "643fb02b-7d46-4890-c6e8-560d8a97bc23"
      },
      "source": [
        "lc_cad6.head()"
      ],
      "execution_count": 6,
      "outputs": [
        {
          "output_type": "execute_result",
          "data": {
            "text/html": [
              "<div>\n",
              "<style scoped>\n",
              "    .dataframe tbody tr th:only-of-type {\n",
              "        vertical-align: middle;\n",
              "    }\n",
              "\n",
              "    .dataframe tbody tr th {\n",
              "        vertical-align: top;\n",
              "    }\n",
              "\n",
              "    .dataframe thead th {\n",
              "        text-align: right;\n",
              "    }\n",
              "</style>\n",
              "<table border=\"1\" class=\"dataframe\">\n",
              "  <thead>\n",
              "    <tr style=\"text-align: right;\">\n",
              "      <th></th>\n",
              "      <th>objid</th>\n",
              "      <th>time_g</th>\n",
              "      <th>time_r</th>\n",
              "      <th>time_i</th>\n",
              "      <th>time_z</th>\n",
              "      <th>time_y</th>\n",
              "      <th>f_g</th>\n",
              "      <th>f_r</th>\n",
              "      <th>f_i</th>\n",
              "      <th>f_z</th>\n",
              "      <th>f_y</th>\n",
              "      <th>f_err_g</th>\n",
              "      <th>f_err_r</th>\n",
              "      <th>f_err_i</th>\n",
              "      <th>f_err_z</th>\n",
              "      <th>f_err_y</th>\n",
              "    </tr>\n",
              "  </thead>\n",
              "  <tbody>\n",
              "    <tr>\n",
              "      <th>0</th>\n",
              "      <td>0.0</td>\n",
              "      <td>2.1</td>\n",
              "      <td>1.2</td>\n",
              "      <td>8.6</td>\n",
              "      <td>2.3</td>\n",
              "      <td>4.0</td>\n",
              "      <td>5.099052e-13</td>\n",
              "      <td>4.435228e-13</td>\n",
              "      <td>4.033789e-13</td>\n",
              "      <td>3.780398e-13</td>\n",
              "      <td>3.473823e-13</td>\n",
              "      <td>4.238515e-16</td>\n",
              "      <td>4.086764e-16</td>\n",
              "      <td>6.069619e-16</td>\n",
              "      <td>1.050271e-15</td>\n",
              "      <td>2.846785e-15</td>\n",
              "    </tr>\n",
              "    <tr>\n",
              "      <th>1</th>\n",
              "      <td>0.0</td>\n",
              "      <td>8.6</td>\n",
              "      <td>11.7</td>\n",
              "      <td>11.9</td>\n",
              "      <td>4.7</td>\n",
              "      <td>13.3</td>\n",
              "      <td>5.108013e-13</td>\n",
              "      <td>4.473170e-13</td>\n",
              "      <td>4.007466e-13</td>\n",
              "      <td>3.811360e-13</td>\n",
              "      <td>3.462734e-13</td>\n",
              "      <td>4.238515e-16</td>\n",
              "      <td>4.086764e-16</td>\n",
              "      <td>6.069619e-16</td>\n",
              "      <td>1.050271e-15</td>\n",
              "      <td>2.846785e-15</td>\n",
              "    </tr>\n",
              "    <tr>\n",
              "      <th>2</th>\n",
              "      <td>0.0</td>\n",
              "      <td>19.5</td>\n",
              "      <td>17.8</td>\n",
              "      <td>16.3</td>\n",
              "      <td>18.4</td>\n",
              "      <td>14.9</td>\n",
              "      <td>5.092370e-13</td>\n",
              "      <td>4.485864e-13</td>\n",
              "      <td>4.048715e-13</td>\n",
              "      <td>3.767276e-13</td>\n",
              "      <td>3.505197e-13</td>\n",
              "      <td>4.238515e-16</td>\n",
              "      <td>4.086764e-16</td>\n",
              "      <td>6.069619e-16</td>\n",
              "      <td>1.050271e-15</td>\n",
              "      <td>2.846785e-15</td>\n",
              "    </tr>\n",
              "    <tr>\n",
              "      <th>3</th>\n",
              "      <td>0.0</td>\n",
              "      <td>27.1</td>\n",
              "      <td>25.4</td>\n",
              "      <td>20.8</td>\n",
              "      <td>20.9</td>\n",
              "      <td>22.6</td>\n",
              "      <td>5.160243e-13</td>\n",
              "      <td>4.448613e-13</td>\n",
              "      <td>4.077479e-13</td>\n",
              "      <td>3.751066e-13</td>\n",
              "      <td>3.419849e-13</td>\n",
              "      <td>4.238515e-16</td>\n",
              "      <td>4.086764e-16</td>\n",
              "      <td>6.069619e-16</td>\n",
              "      <td>1.050271e-15</td>\n",
              "      <td>2.846785e-15</td>\n",
              "    </tr>\n",
              "    <tr>\n",
              "      <th>4</th>\n",
              "      <td>0.0</td>\n",
              "      <td>29.9</td>\n",
              "      <td>29.8</td>\n",
              "      <td>30.8</td>\n",
              "      <td>31.8</td>\n",
              "      <td>30.6</td>\n",
              "      <td>5.176929e-13</td>\n",
              "      <td>4.470239e-13</td>\n",
              "      <td>4.064069e-13</td>\n",
              "      <td>3.791456e-13</td>\n",
              "      <td>3.567920e-13</td>\n",
              "      <td>4.238515e-16</td>\n",
              "      <td>4.086764e-16</td>\n",
              "      <td>6.069619e-16</td>\n",
              "      <td>1.050271e-15</td>\n",
              "      <td>2.846785e-15</td>\n",
              "    </tr>\n",
              "  </tbody>\n",
              "</table>\n",
              "</div>"
            ],
            "text/plain": [
              "   objid  time_g  time_r  ...       f_err_i       f_err_z       f_err_y\n",
              "0    0.0     2.1     1.2  ...  6.069619e-16  1.050271e-15  2.846785e-15\n",
              "1    0.0     8.6    11.7  ...  6.069619e-16  1.050271e-15  2.846785e-15\n",
              "2    0.0    19.5    17.8  ...  6.069619e-16  1.050271e-15  2.846785e-15\n",
              "3    0.0    27.1    25.4  ...  6.069619e-16  1.050271e-15  2.846785e-15\n",
              "4    0.0    29.9    29.8  ...  6.069619e-16  1.050271e-15  2.846785e-15\n",
              "\n",
              "[5 rows x 16 columns]"
            ]
          },
          "metadata": {
            "tags": []
          },
          "execution_count": 6
        }
      ]
    },
    {
      "cell_type": "code",
      "metadata": {
        "id": "QDJQMntppt1T",
        "colab_type": "code",
        "colab": {
          "base_uri": "https://localhost:8080/",
          "height": 63
        },
        "outputId": "fbc6b149-94f5-4f9b-a8a2-b55fdb3ff206"
      },
      "source": [
        "import matplotlib.pyplot as plt\n",
        "import tensorflow as tf"
      ],
      "execution_count": 7,
      "outputs": [
        {
          "output_type": "display_data",
          "data": {
            "text/html": [
              "<p style=\"color: red;\">\n",
              "The default version of TensorFlow in Colab will soon switch to TensorFlow 2.x.<br>\n",
              "We recommend you <a href=\"https://www.tensorflow.org/guide/migrate\" target=\"_blank\">upgrade</a> now \n",
              "or ensure your notebook will continue to use TensorFlow 1.x via the <code>%tensorflow_version 1.x</code> magic:\n",
              "<a href=\"https://colab.research.google.com/notebooks/tensorflow_version.ipynb\" target=\"_blank\">more info</a>.</p>\n"
            ],
            "text/plain": [
              "<IPython.core.display.HTML object>"
            ]
          },
          "metadata": {
            "tags": []
          }
        }
      ]
    },
    {
      "cell_type": "code",
      "metadata": {
        "id": "1U1MDkO8p0SQ",
        "colab_type": "code",
        "colab": {}
      },
      "source": [
        "class lightcurve():\n",
        "  def __init__(self, data, objdata, objid):\n",
        "      self._lc = data.loc[data[\"objid\"] == objid]\n",
        "      self._prop = objdata.loc[objdata[\"obj_id\"] == objid]\n",
        "\n",
        "  def plot_full_lightcure(self, standardize = True):\n",
        "    f, ax = plt.subplots()\n",
        "    for b in \"grizy\":\n",
        "      ax = self.plot_lightcure(ax, band =b, standardize=standardize)\n",
        "    ax.legend()\n",
        "  def plot_lightcure(self, ax, band = 'g', standardize = True):\n",
        "    if band not in \"grizy\":\n",
        "      raise NameError(\"band not identified\")\n",
        "    if standardize:\n",
        "      lc = self.standardize(self._lc[\"f_{}\".format(band)])\n",
        "    else:\n",
        "      lc = self._lc[\"f_{}\".format(band)]\n",
        "    t = self._lc[\"time_{}\".format(band)]\n",
        "    # ax.semilogy(t, lc, ls ='', marker ='.', label=band)\n",
        "    band_lag = self._prop[\"lag_{}\".format(band)]\n",
        "    print(band_lag)\n",
        "    ax.plot(t, lc, label=\"({}) {}\".format(band_lag.values[0], band) )\n",
        "    return ax\n",
        "\n",
        "  def standardize(self, lc):\n",
        "    mu = lc.mean()\n",
        "    std = lc.std()\n",
        "    return (lc-mu)/std\n",
        "\n",
        "  def pad_sequences(self, maxlen = 32, truncating=\"pre\"):\n",
        "    \"\"\"Pad sequence to the same size\n",
        "    return:\n",
        "      Array of [ band, maxlen(timestep), features ]\n",
        "      feature:\n",
        "        [time, flux, flux_error] either truncated or padded with zeros\n",
        "    \"\"\"\n",
        "    pad_seq = tf.keras.preprocessing.sequence.pad_sequences\n",
        "    lc = self._lc\n",
        "    padded_lc = []\n",
        "    for b in \"grizy\":\n",
        "      time = lc[\"time_{}\".format(b)]\n",
        "      flux = lc[\"f_{}\".format(b)]\n",
        "      ferr = lc[\"f_err_{}\".format(b)]\n",
        "      xxx = pad_seq([time, flux, ferr], \n",
        "                    maxlen=maxlen, dtype='double', \n",
        "                    truncating=truncating)\n",
        "      padded_lc.append(xxx)\n",
        "    padded_lc = np.array(padded_lc).transpose(0,2,1)\n",
        "\n",
        "    return padded_lc"
      ],
      "execution_count": 0,
      "outputs": []
    },
    {
      "cell_type": "code",
      "metadata": {
        "id": "8CVAwKUvuKI9",
        "colab_type": "code",
        "colab": {}
      },
      "source": [
        "lc = lightcurve(lc_cad6, agn_cat, 0)"
      ],
      "execution_count": 0,
      "outputs": []
    },
    {
      "cell_type": "code",
      "metadata": {
        "id": "yM1yCsL3uNYg",
        "colab_type": "code",
        "colab": {
          "base_uri": "https://localhost:8080/",
          "height": 435
        },
        "outputId": "47a2a7f1-c377-4104-cf37-49f1fd512d0d"
      },
      "source": [
        "lc.plot_full_lightcure()"
      ],
      "execution_count": 10,
      "outputs": [
        {
          "output_type": "stream",
          "text": [
            "0    0.0\n",
            "Name: lag_g, dtype: float64\n",
            "0    7.914683\n",
            "Name: lag_r, dtype: float64\n",
            "0    15.017492\n",
            "Name: lag_i, dtype: float64\n",
            "0    26.047311\n",
            "Name: lag_z, dtype: float64\n",
            "0    35.98824\n",
            "Name: lag_y, dtype: float64\n"
          ],
          "name": "stdout"
        },
        {
          "output_type": "display_data",
          "data": {
            "image/png": "[encoded data removed]",
            "text/plain": [
              "<Figure size 432x288 with 1 Axes>"
            ]
          },
          "metadata": {
            "tags": []
          }
        }
      ]
    },
    {
      "cell_type": "code",
      "metadata": {
        "id": "8i0YabHX9P4p",
        "colab_type": "code",
        "colab": {}
      },
      "source": [
        "objid = agn_cat[\"obj_id\"].unique()"
      ],
      "execution_count": 0,
      "outputs": []
    },
    {
      "cell_type": "code",
      "metadata": {
        "id": "OR3eVBNY-Sn8",
        "colab_type": "code",
        "colab": {}
      },
      "source": [
        "import numpy as np\n",
        "full_padded_lc = []\n",
        "for i in objid:\n",
        "  lc = lightcurve(lc_cad6, agn_cat, i)\n",
        "  full_padded_lc.append(lc.pad_sequences())"
      ],
      "execution_count": 0,
      "outputs": []
    },
    {
      "cell_type": "code",
      "metadata": {
        "id": "nWG1vpDquTsp",
        "colab_type": "code",
        "colab": {}
      },
      "source": [
        "fplc = np.array(full_padded_lc)"
      ],
      "execution_count": 0,
      "outputs": []
    },
    {
      "cell_type": "code",
      "metadata": {
        "id": "SQS5Pj0Q4uk9",
        "colab_type": "code",
        "colab": {
          "base_uri": "https://localhost:8080/",
          "height": 197
        },
        "outputId": "971e0703-0b91-404e-9e3f-ae20dfaaf8f6"
      },
      "source": [
        "import numpy as np\n",
        "\n",
        "xxx = np.array(pad_lc)\n",
        "\n",
        "print(xxx.transpose(2,1).shape)"
      ],
      "execution_count": 21,
      "outputs": [
        {
          "output_type": "error",
          "ename": "ValueError",
          "evalue": "ignored",
          "traceback": [
            "\u001b[0;31m---------------------------------------------------------------------------\u001b[0m",
            "\u001b[0;31mValueError\u001b[0m                                Traceback (most recent call last)",
            "\u001b[0;32m<ipython-input-21-3f7d9aa1ddae>\u001b[0m in \u001b[0;36m<module>\u001b[0;34m()\u001b[0m\n\u001b[1;32m      3\u001b[0m \u001b[0mxxx\u001b[0m \u001b[0;34m=\u001b[0m \u001b[0mnp\u001b[0m\u001b[0;34m.\u001b[0m\u001b[0marray\u001b[0m\u001b[0;34m(\u001b[0m\u001b[0mpad_lc\u001b[0m\u001b[0;34m)\u001b[0m\u001b[0;34m\u001b[0m\u001b[0;34m\u001b[0m\u001b[0m\n\u001b[1;32m      4\u001b[0m \u001b[0;34m\u001b[0m\u001b[0m\n\u001b[0;32m----> 5\u001b[0;31m \u001b[0mprint\u001b[0m\u001b[0;34m(\u001b[0m\u001b[0mxxx\u001b[0m\u001b[0;34m.\u001b[0m\u001b[0mtranspose\u001b[0m\u001b[0;34m(\u001b[0m\u001b[0;36m2\u001b[0m\u001b[0;34m,\u001b[0m\u001b[0;36m1\u001b[0m\u001b[0;34m)\u001b[0m\u001b[0;34m.\u001b[0m\u001b[0mshape\u001b[0m\u001b[0;34m)\u001b[0m\u001b[0;34m\u001b[0m\u001b[0;34m\u001b[0m\u001b[0m\n\u001b[0m",
            "\u001b[0;31mValueError\u001b[0m: axes don't match array"
          ]
        }
      ]
    },
    {
      "cell_type": "code",
      "metadata": {
        "id": "yCI47yHj4yBv",
        "colab_type": "code",
        "colab": {
          "base_uri": "https://localhost:8080/",
          "height": 34
        },
        "outputId": "31f7673b-0ae5-40f6-d7ae-b98932aab99d"
      },
      "source": [
        "xxx.transpose(0,2,1).shape"
      ],
      "execution_count": 26,
      "outputs": [
        {
          "output_type": "execute_result",
          "data": {
            "text/plain": [
              "(5, 32, 3)"
            ]
          },
          "metadata": {
            "tags": []
          },
          "execution_count": 26
        }
      ]
    },
    {
      "cell_type": "code",
      "metadata": {
        "id": "PVIb2AL04xlw",
        "colab_type": "code",
        "colab": {}
      },
      "source": [
        "pad_seq = tf.keras.preprocessing.sequence.pad_sequences"
      ],
      "execution_count": 0,
      "outputs": []
    },
    {
      "cell_type": "code",
      "metadata": {
        "id": "6u13hv874YiM",
        "colab_type": "code",
        "colab": {}
      },
      "source": [
        "def lc_to_padseq(lc):\n",
        "  "
      ],
      "execution_count": 0,
      "outputs": []
    },
    {
      "cell_type": "code",
      "metadata": {
        "id": "mL8jrlLW5J6V",
        "colab_type": "code",
        "colab": {}
      },
      "source": [
        "a = lc._lc[[\"time_g\", \"f_g\"]]"
      ],
      "execution_count": 0,
      "outputs": []
    },
    {
      "cell_type": "code",
      "metadata": {
        "id": "220tTVJF6_Pc",
        "colab_type": "code",
        "colab": {
          "base_uri": "https://localhost:8080/",
          "height": 289
        },
        "outputId": "bf11ff31-c45d-464c-dbfd-8a0434cd8c9a"
      },
      "source": [
        "pad_seq(a.values.transpose(), maxlen=32, dtype='double')"
      ],
      "execution_count": 110,
      "outputs": [
        {
          "output_type": "execute_result",
          "data": {
            "text/plain": [
              "array([[0.00000000e+00, 0.00000000e+00, 0.00000000e+00, 2.10000000e+00,\n",
              "        8.60000000e+00, 1.95000000e+01, 2.71000000e+01, 2.99000000e+01,\n",
              "        3.59000000e+01, 4.28000000e+01, 4.85000000e+01, 5.42000000e+01,\n",
              "        5.94000000e+01, 6.71000000e+01, 7.22000000e+01, 7.33000000e+01,\n",
              "        8.06000000e+01, 9.44000000e+01, 9.50000000e+01, 9.83000000e+01,\n",
              "        1.10200000e+02, 1.12400000e+02, 1.19300000e+02, 1.27600000e+02,\n",
              "        1.31500000e+02, 1.40300000e+02, 1.46200000e+02, 1.52700000e+02,\n",
              "        1.55000000e+02, 1.57600000e+02, 1.67300000e+02, 1.75300000e+02],\n",
              "       [0.00000000e+00, 0.00000000e+00, 0.00000000e+00, 5.09905153e-13,\n",
              "        5.10801347e-13, 5.09237003e-13, 5.16024293e-13, 5.17692899e-13,\n",
              "        5.19534139e-13, 5.17813228e-13, 5.16405529e-13, 5.18250807e-13,\n",
              "        5.16653884e-13, 5.18532578e-13, 5.13781476e-13, 5.11754034e-13,\n",
              "        5.16432283e-13, 5.11537670e-13, 5.13895093e-13, 5.10058241e-13,\n",
              "        5.14376611e-13, 5.15483783e-13, 5.12253739e-13, 5.12125946e-13,\n",
              "        5.09376528e-13, 5.07260001e-13, 5.11120678e-13, 5.09346686e-13,\n",
              "        5.12158752e-13, 5.14485954e-13, 5.19782990e-13, 5.15946635e-13]])"
            ]
          },
          "metadata": {
            "tags": []
          },
          "execution_count": 110
        }
      ]
    },
    {
      "cell_type": "code",
      "metadata": {
        "id": "hDDXFgmE5LTZ",
        "colab_type": "code",
        "colab": {}
      },
      "source": [
        "xxx = pad_seq([a[\"f_g\"].values, a[\"f_g\"].values], maxlen=32, dtype='double')"
      ],
      "execution_count": 0,
      "outputs": []
    },
    {
      "cell_type": "code",
      "metadata": {
        "id": "FdGfUz5B5Nka",
        "colab_type": "code",
        "colab": {
          "base_uri": "https://localhost:8080/",
          "height": 34
        },
        "outputId": "4c47af6a-bc1f-46ad-9a90-a6ae7e1d8b60"
      },
      "source": [
        "xxx.shape"
      ],
      "execution_count": 100,
      "outputs": [
        {
          "output_type": "execute_result",
          "data": {
            "text/plain": [
              "(2, 32)"
            ]
          },
          "metadata": {
            "tags": []
          },
          "execution_count": 100
        }
      ]
    },
    {
      "cell_type": "code",
      "metadata": {
        "id": "7vfRZrEm5wyp",
        "colab_type": "code",
        "colab": {
          "base_uri": "https://localhost:8080/",
          "height": 153
        },
        "outputId": "f3dd5ae0-eb67-4552-ce4b-e197ec8caa72"
      },
      "source": [
        "xxx[1]"
      ],
      "execution_count": 101,
      "outputs": [
        {
          "output_type": "execute_result",
          "data": {
            "text/plain": [
              "array([0.00000000e+00, 0.00000000e+00, 0.00000000e+00, 5.09905153e-13,\n",
              "       5.10801347e-13, 5.09237003e-13, 5.16024293e-13, 5.17692899e-13,\n",
              "       5.19534139e-13, 5.17813228e-13, 5.16405529e-13, 5.18250807e-13,\n",
              "       5.16653884e-13, 5.18532578e-13, 5.13781476e-13, 5.11754034e-13,\n",
              "       5.16432283e-13, 5.11537670e-13, 5.13895093e-13, 5.10058241e-13,\n",
              "       5.14376611e-13, 5.15483783e-13, 5.12253739e-13, 5.12125946e-13,\n",
              "       5.09376528e-13, 5.07260001e-13, 5.11120678e-13, 5.09346686e-13,\n",
              "       5.12158752e-13, 5.14485954e-13, 5.19782990e-13, 5.15946635e-13])"
            ]
          },
          "metadata": {
            "tags": []
          },
          "execution_count": 101
        }
      ]
    },
    {
      "cell_type": "code",
      "metadata": {
        "id": "y-RU-QYo5zv-",
        "colab_type": "code",
        "colab": {}
      },
      "source": [
        ""
      ],
      "execution_count": 0,
      "outputs": []
    }
  ]
}